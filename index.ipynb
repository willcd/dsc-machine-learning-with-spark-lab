{
 "cells": [
  {
   "cell_type": "markdown",
   "metadata": {},
   "source": [
    "## Machine Learning with Spark - Lab\n",
    "\n",
    "## Introduction\n",
    "\n",
    "Previously you saw how to manipulate data with Spark DataFrames as well as create machine learning models. In this lab, you're going to practice loading data, manipulating it, preparing visualizations, and fitting it in the Spark MLlib framework. Let's get started!\n",
    "\n",
    "### Objectives\n",
    "\n",
    "In this lab you will: \n",
    "\n",
    "- Load and manipulate data using Spark DataFrames \n",
    "- Create a Spark ML pipeline that transforms data and runs over a grid of hyperparameters "
   ]
  },
  {
   "cell_type": "markdown",
   "metadata": {},
   "source": [
    "## The Data\n",
    "\n",
    "This dataset is from a Taiwanese financial company, and the task is to determine which individuals are going to default on their credit card based off of characteristics such as limit balance, past payment history, age, marriage status, and sex.\n",
    "\n",
    "You'll use the file `credit_card_default.csv`, which comes from the [UCI ML Repository](https://archive.ics.uci.edu/ml/datasets/default+of+credit+card+clients)."
   ]
  },
  {
   "cell_type": "markdown",
   "metadata": {},
   "source": [
    "## Initial Data Exploration\n",
    "\n",
    "Get started by writing the relevant import statement and creating a local SparkSession called `spark`, then use that SparkSession to read `credit_card_default.csv` into a Spark SQL DataFrame."
   ]
  },
  {
   "cell_type": "code",
   "execution_count": 1,
   "metadata": {},
   "outputs": [],
   "source": [
    "# import necessary libraries\n",
    "from pyspark import SparkContext\n",
    "from pyspark.sql import SparkSession\n",
    "\n",
    "# initialize Spark Session\n",
    "spark = SparkSession.builder.master('local').getOrCreate()\n",
    "\n",
    "# read in csv to a spark dataframe\n",
    "spark_df = spark.read.csv('./credit_card_default.csv', header='true', inferSchema='true')"
   ]
  },
  {
   "cell_type": "markdown",
   "metadata": {},
   "source": [
    "Use `.head()` to display the first 5 records, and print out the schema."
   ]
  },
  {
   "cell_type": "code",
   "execution_count": 7,
   "metadata": {},
   "outputs": [
    {
     "name": "stdout",
     "output_type": "stream",
     "text": [
      "Row(ID=2, LIMIT_BAL=120000.0, SEX='Female', EDUCATION='College', MARRIAGE='Single', AGE=26, PAY_0=-1, PAY_2=2, PAY_3=0, PAY_4=0, PAY_5=0, PAY_6=2, BILL_AMT1=2682.0, BILL_AMT2=1725.0, BILL_AMT3=2682.0, BILL_AMT4=3272.0, BILL_AMT5=3455.0, BILL_AMT6=3261.0, PAY_AMT1=0.0, PAY_AMT2=1000.0, PAY_AMT3=1000.0, PAY_AMT4=1000.0, PAY_AMT5=0.0, PAY_AMT6=2000.0, default=1)\n",
      "Row(ID=3, LIMIT_BAL=90000.0, SEX='Female', EDUCATION='College', MARRIAGE='Single', AGE=34, PAY_0=0, PAY_2=0, PAY_3=0, PAY_4=0, PAY_5=0, PAY_6=0, BILL_AMT1=29239.0, BILL_AMT2=14027.0, BILL_AMT3=13559.0, BILL_AMT4=14331.0, BILL_AMT5=14948.0, BILL_AMT6=15549.0, PAY_AMT1=1518.0, PAY_AMT2=1500.0, PAY_AMT3=1000.0, PAY_AMT4=1000.0, PAY_AMT5=1000.0, PAY_AMT6=5000.0, default=0)\n",
      "Row(ID=4, LIMIT_BAL=50000.0, SEX='Female', EDUCATION='College', MARRIAGE='Married', AGE=37, PAY_0=0, PAY_2=0, PAY_3=0, PAY_4=0, PAY_5=0, PAY_6=0, BILL_AMT1=46990.0, BILL_AMT2=48233.0, BILL_AMT3=49291.0, BILL_AMT4=28314.0, BILL_AMT5=28959.0, BILL_AMT6=29547.0, PAY_AMT1=2000.0, PAY_AMT2=2019.0, PAY_AMT3=1200.0, PAY_AMT4=1100.0, PAY_AMT5=1069.0, PAY_AMT6=1000.0, default=0)\n",
      "Row(ID=5, LIMIT_BAL=50000.0, SEX='Male', EDUCATION='College', MARRIAGE='Married', AGE=57, PAY_0=-1, PAY_2=0, PAY_3=-1, PAY_4=0, PAY_5=0, PAY_6=0, BILL_AMT1=8617.0, BILL_AMT2=5670.0, BILL_AMT3=35835.0, BILL_AMT4=20940.0, BILL_AMT5=19146.0, BILL_AMT6=19131.0, PAY_AMT1=2000.0, PAY_AMT2=36681.0, PAY_AMT3=10000.0, PAY_AMT4=9000.0, PAY_AMT5=689.0, PAY_AMT6=679.0, default=0)\n",
      "Row(ID=6, LIMIT_BAL=50000.0, SEX='Male', EDUCATION='Graduate', MARRIAGE='Single', AGE=37, PAY_0=0, PAY_2=0, PAY_3=0, PAY_4=0, PAY_5=0, PAY_6=0, BILL_AMT1=64400.0, BILL_AMT2=57069.0, BILL_AMT3=57608.0, BILL_AMT4=19394.0, BILL_AMT5=19619.0, BILL_AMT6=20024.0, PAY_AMT1=2500.0, PAY_AMT2=1815.0, PAY_AMT3=657.0, PAY_AMT4=1000.0, PAY_AMT5=1000.0, PAY_AMT6=800.0, default=0)\n"
     ]
    }
   ],
   "source": [
    "# Display the first 5 records\n",
    "for record in spark_df.head(5):\n",
    "    print(record)"
   ]
  },
  {
   "cell_type": "code",
   "execution_count": 8,
   "metadata": {},
   "outputs": [
    {
     "name": "stdout",
     "output_type": "stream",
     "text": [
      "root\n",
      " |-- ID: integer (nullable = true)\n",
      " |-- LIMIT_BAL: double (nullable = true)\n",
      " |-- SEX: string (nullable = true)\n",
      " |-- EDUCATION: string (nullable = true)\n",
      " |-- MARRIAGE: string (nullable = true)\n",
      " |-- AGE: integer (nullable = true)\n",
      " |-- PAY_0: integer (nullable = true)\n",
      " |-- PAY_2: integer (nullable = true)\n",
      " |-- PAY_3: integer (nullable = true)\n",
      " |-- PAY_4: integer (nullable = true)\n",
      " |-- PAY_5: integer (nullable = true)\n",
      " |-- PAY_6: integer (nullable = true)\n",
      " |-- BILL_AMT1: double (nullable = true)\n",
      " |-- BILL_AMT2: double (nullable = true)\n",
      " |-- BILL_AMT3: double (nullable = true)\n",
      " |-- BILL_AMT4: double (nullable = true)\n",
      " |-- BILL_AMT5: double (nullable = true)\n",
      " |-- BILL_AMT6: double (nullable = true)\n",
      " |-- PAY_AMT1: double (nullable = true)\n",
      " |-- PAY_AMT2: double (nullable = true)\n",
      " |-- PAY_AMT3: double (nullable = true)\n",
      " |-- PAY_AMT4: double (nullable = true)\n",
      " |-- PAY_AMT5: double (nullable = true)\n",
      " |-- PAY_AMT6: double (nullable = true)\n",
      " |-- default: integer (nullable = true)\n",
      "\n"
     ]
    }
   ],
   "source": [
    "# Print out the schema\n",
    "spark_df.printSchema()"
   ]
  },
  {
   "cell_type": "markdown",
   "metadata": {},
   "source": [
    "It looks like we have three non-numeric features. For each non-numeric (`string`) feature, select and show all distinct categories."
   ]
  },
  {
   "cell_type": "code",
   "execution_count": 13,
   "metadata": {},
   "outputs": [
    {
     "name": "stdout",
     "output_type": "stream",
     "text": [
      "+------+\n",
      "|   SEX|\n",
      "+------+\n",
      "|Female|\n",
      "|  Male|\n",
      "+------+\n",
      "\n",
      "None\n",
      "+-----------+\n",
      "|  EDUCATION|\n",
      "+-----------+\n",
      "|High School|\n",
      "|          0|\n",
      "|          5|\n",
      "|          6|\n",
      "|      Other|\n",
      "|   Graduate|\n",
      "|    College|\n",
      "+-----------+\n",
      "\n",
      "None\n",
      "+--------+\n",
      "|MARRIAGE|\n",
      "+--------+\n",
      "|       0|\n",
      "|   Other|\n",
      "| Married|\n",
      "|  Single|\n",
      "+--------+\n",
      "\n",
      "None\n"
     ]
    }
   ],
   "source": [
    "# Select and show all distinct categories\n",
    "for col, dtype in spark_df.dtypes:\n",
    "    if dtype=='string':\n",
    "        print(spark_df.select(col).distinct().show());"
   ]
  },
  {
   "cell_type": "markdown",
   "metadata": {},
   "source": [
    "Interesting...it looks like we have some extraneous values in our categories. For example both `EDUCATION` and `MARRIAGE` have a category `0`.\n",
    "\n",
    "Let's create some visualizations of each of these to determine just how many of them there are.\n",
    "\n",
    "Create bar plots of the variables `EDUCATION` and `MARRIAGE` to see how the records are distributed between the categories.\n",
    "\n",
    "<details>\n",
    "    <summary><u>Click to reveal hint</u></summary>\n",
    "    \n",
    "To create a bar plot, you need to group by the category (`.groupBy()`) and then aggregate by the count in that category (`.count()`). That will result in a small DataFrame containing `EDUCATION` and `count` columns.\n",
    "    \n",
    "Then the easiest way to create a bar plot is to call `.toPandas()` to make that small Spark SQL DataFrame into a pandas DataFrame, and call `.plot()` on the pandas DataFrame.\n",
    "\n",
    "</details>"
   ]
  },
  {
   "cell_type": "code",
   "execution_count": 18,
   "metadata": {},
   "outputs": [
    {
     "data": {
      "image/png": "[encoded data removed]",
      "text/plain": [
       "<Figure size 432x288 with 1 Axes>"
      ]
     },
     "metadata": {
      "needs_background": "light"
     },
     "output_type": "display_data"
    }
   ],
   "source": [
    "# Create bar plot of EDUCATION\n",
    "edu = spark_df.groupBy('EDUCATION').count()\n",
    "edu.toPandas().plot(kind='bar', x='EDUCATION', y='count');"
   ]
  },
  {
   "cell_type": "code",
   "execution_count": 19,
   "metadata": {},
   "outputs": [
    {
     "data": {
      "image/png": "[encoded data removed]",
      "text/plain": [
       "<Figure size 432x288 with 1 Axes>"
      ]
     },
     "metadata": {
      "needs_background": "light"
     },
     "output_type": "display_data"
    }
   ],
   "source": [
    "# Create bar plot of MARRIAGE\n",
    "edu = spark_df.groupBy('MARRIAGE').count()\n",
    "edu.toPandas().plot(kind='bar', x='MARRIAGE', y='count');"
   ]
  },
  {
   "cell_type": "markdown",
   "metadata": {},
   "source": [
    "## Binning\n",
    "\n",
    "It looks like there are barely any records in the `0`, `5`, and `6` categories. Let's go ahead and bin (combine) those with the current `Other` records into a single catch-all `Other` category for both `EDUCATION` and `MARRIAGE`.\n",
    "\n",
    "The approach we'll use is similar to the `CASE WHEN` technique in SQL. If this were a SQL query, it would look something like this:\n",
    "\n",
    "```sql\n",
    "SELECT CASE\n",
    "       WHEN EDUCATION = '0' THEN 'Other'\n",
    "       WHEN EDUCATION = '5' THEN 'Other'\n",
    "       WHEN EDUCATION = '6' THEN 'Other'\n",
    "       ELSE EDUCATION\n",
    "       END AS EDUCATION\n",
    "  FROM credit_card_default;\n",
    "```\n",
    "\n",
    "With Spark SQL DataFrames, this is achieved using `.withColumn()` ([documentation here](https://spark.apache.org/docs/latest/api/python/reference/api/pyspark.sql.DataFrame.withColumn.html)) in conjunction with `.when()` ([documentation here](https://spark.apache.org/docs/latest/api/python/reference/api/pyspark.sql.Column.when.html)) and `.otherwise()` ([documentation here](https://spark.apache.org/docs/latest/api/python/reference/api/pyspark.sql.Column.otherwise.html))."
   ]
  },
  {
   "cell_type": "code",
   "execution_count": 25,
   "metadata": {},
   "outputs": [
    {
     "name": "stdout",
     "output_type": "stream",
     "text": [
      "+-----------+\n",
      "|  EDUCATION|\n",
      "+-----------+\n",
      "|High School|\n",
      "|      Other|\n",
      "|   Graduate|\n",
      "|    College|\n",
      "+-----------+\n",
      "\n",
      "+--------+\n",
      "|MARRIAGE|\n",
      "+--------+\n",
      "|   Other|\n",
      "| Married|\n",
      "|  Single|\n",
      "+--------+\n",
      "\n"
     ]
    }
   ],
   "source": [
    "from pyspark.sql import functions as F\n",
    "\n",
    "# Bin EDUCATION categories\n",
    "edu_bin = spark_df.withColumn('EDUCATION',\n",
    "                              F.when(spark_df['EDUCATION']=='0', 'Other')\\\n",
    "                             .when(spark_df['EDUCATION']=='5', 'Other')\\\n",
    "                             .when(spark_df['EDUCATION']=='6', 'Other')\\\n",
    "                             .otherwise(spark_df['EDUCATION']))\n",
    "# Bin MARRIAGE categories\n",
    "edu_mar_bin = edu_bin.withColumn('MARRIAGE',\n",
    "                              F.when(edu_bin['MARRIAGE']=='0', 'Other')\\\n",
    "                             .otherwise(edu_bin['MARRIAGE']))\n",
    "\n",
    "# Select and show all distinct categories for EDUCATION and MARRIGE again\n",
    "edu_mar_bin.select('EDUCATION').distinct().show()\n",
    "edu_mar_bin.select('MARRIAGE').distinct().show()"
   ]
  },
  {
   "cell_type": "markdown",
   "metadata": {},
   "source": [
    "Let's also re-create the plots from earlier, now that the data has been binned:"
   ]
  },
  {
   "cell_type": "code",
   "execution_count": 26,
   "metadata": {},
   "outputs": [
    {
     "data": {
      "image/png": "[encoded data removed]",
      "text/plain": [
       "<Figure size 432x288 with 1 Axes>"
      ]
     },
     "metadata": {
      "needs_background": "light"
     },
     "output_type": "display_data"
    }
   ],
   "source": [
    "# Plot EDUCATION\n",
    "edu2 = edu_mar_bin.groupBy('EDUCATION').count()\n",
    "edu2.toPandas().plot(kind='bar', x='EDUCATION', y='count');"
   ]
  },
  {
   "cell_type": "code",
   "execution_count": 27,
   "metadata": {},
   "outputs": [
    {
     "data": {
      "image/png": "[encoded data removed]",
      "text/plain": [
       "<Figure size 432x288 with 1 Axes>"
      ]
     },
     "metadata": {
      "needs_background": "light"
     },
     "output_type": "display_data"
    }
   ],
   "source": [
    "# Plot MARRIAGE\n",
    "mar2 = edu_mar_bin.groupBy('EDUCATION').count()\n",
    "mar2.toPandas().plot(kind='bar', x='EDUCATION', y='count');"
   ]
  },
  {
   "cell_type": "markdown",
   "metadata": {},
   "source": [
    "Much better. Now, let's do a little more investigation into our target variable before diving into the machine learning aspect of this project."
   ]
  },
  {
   "cell_type": "markdown",
   "metadata": {},
   "source": [
    "##  Class Balance Exploration\n",
    "\n",
    "Let's first look at the overall distribution of class balance of the `default` column (the target for our upcoming machine learning process). \n",
    "\n",
    "Create a bar plot to compare the number of defaults (`0`) vs. non-defaults (`1`). Consider customizing your plot labels as well, since `0` and `1` are not particularly understandable values."
   ]
  },
  {
   "cell_type": "code",
   "execution_count": 31,
   "metadata": {},
   "outputs": [],
   "source": [
    "import matplotlib.pyplot as plt\n",
    "%matplotlib inline\n",
    "import seaborn as sns"
   ]
  },
  {
   "cell_type": "code",
   "execution_count": 33,
   "metadata": {},
   "outputs": [
    {
     "data": {
      "image/png": "[encoded data removed]",
      "text/plain": [
       "<Figure size 864x576 with 1 Axes>"
      ]
     },
     "metadata": {},
     "output_type": "display_data"
    }
   ],
   "source": [
    "# Group and aggregate target data\n",
    "group_agg = edu_mar_bin.groupby('default').count().orderBy('default')\n",
    "\n",
    "# Plot target data\n",
    "sp_df = group_agg.toPandas()\n",
    "\n",
    "sns.set_context('notebook')\n",
    "sns.set_style('darkgrid')\n",
    "\n",
    "fig, ax = plt.subplots(figsize=(12,8))\n",
    "sns.barplot(data=sp_df, x='default',y='count')\n",
    "ax.set_xlabel(\"Target\")\n",
    "ax.set_xticklabels(['Non-Default (0)','Default (1)']);"
   ]
  },
  {
   "cell_type": "markdown",
   "metadata": {},
   "source": [
    "Looks like we have a fairly imbalanced dataset.\n",
    "\n",
    "Let's also visualize the difference in default rate between males and females in this dataset. Group by both `default` and `SEX` and visualize the comparison."
   ]
  },
  {
   "cell_type": "code",
   "execution_count": 52,
   "metadata": {},
   "outputs": [
    {
     "data": {
      "text/html": [
       "<div>\n",
       "<style scoped>\n",
       "    .dataframe tbody tr th:only-of-type {\n",
       "        vertical-align: middle;\n",
       "    }\n",
       "\n",
       "    .dataframe tbody tr th {\n",
       "        vertical-align: top;\n",
       "    }\n",
       "\n",
       "    .dataframe thead th {\n",
       "        text-align: right;\n",
       "    }\n",
       "</style>\n",
       "<table border=\"1\" class=\"dataframe\">\n",
       "  <thead>\n",
       "    <tr style=\"text-align: right;\">\n",
       "      <th></th>\n",
       "      <th>default</th>\n",
       "      <th>SEX</th>\n",
       "      <th>count</th>\n",
       "    </tr>\n",
       "  </thead>\n",
       "  <tbody>\n",
       "    <tr>\n",
       "      <th>0</th>\n",
       "      <td>0</td>\n",
       "      <td>Female</td>\n",
       "      <td>14349</td>\n",
       "    </tr>\n",
       "    <tr>\n",
       "      <th>1</th>\n",
       "      <td>0</td>\n",
       "      <td>Male</td>\n",
       "      <td>9015</td>\n",
       "    </tr>\n",
       "    <tr>\n",
       "      <th>2</th>\n",
       "      <td>1</td>\n",
       "      <td>Female</td>\n",
       "      <td>3762</td>\n",
       "    </tr>\n",
       "    <tr>\n",
       "      <th>3</th>\n",
       "      <td>1</td>\n",
       "      <td>Male</td>\n",
       "      <td>2873</td>\n",
       "    </tr>\n",
       "  </tbody>\n",
       "</table>\n",
       "</div>"
      ],
      "text/plain": [
       "   default     SEX  count\n",
       "0        0  Female  14349\n",
       "1        0    Male   9015\n",
       "2        1  Female   3762\n",
       "3        1    Male   2873"
      ]
     },
     "metadata": {},
     "output_type": "display_data"
    },
    {
     "data": {
      "image/png": "[encoded data removed]",
      "text/plain": [
       "<Figure size 864x576 with 1 Axes>"
      ]
     },
     "metadata": {},
     "output_type": "display_data"
    }
   ],
   "source": [
    "# Group and aggregate target and sex data\n",
    "sex_group = edu_mar_bin.groupBy(['default', 'SEX']).count().orderBy(['default', 'SEX'])\n",
    "# Plot target and sex data\n",
    "sex_df = sex_group.toPandas()\n",
    "display(sex_df)\n",
    "fig, ax = plt.subplots(figsize=(12,8))\n",
    "sns.barplot(data=sex_df, x='SEX', hue='default', y='count')\n",
    "ax.set_xlabel(\"Sex\")\n",
    "ax.set_xticklabels(['Female','Male']);"
   ]
  },
  {
   "cell_type": "markdown",
   "metadata": {},
   "source": [
    "It looks like males have an ever so slightly higher default rate than females, and also represent a smaller proportion of the dataset."
   ]
  },
  {
   "cell_type": "markdown",
   "metadata": {},
   "source": [
    "## On to the Machine Learning!\n",
    "\n",
    "Now, it's time to fit the data to the PySpark machine learning model pipeline. You will need:\n",
    "\n",
    "* 3 `StringIndexer`s\n",
    "  * One for each categorical feature\n",
    "  * [Documentation here](https://spark.apache.org/docs/latest/api/python/reference/api/pyspark.ml.feature.StringIndexer.html)\n",
    "* A `OneHotEncoder`\n",
    "  * To encode the newly indexed strings into categorical variables\n",
    "  * [Documentation here](https://spark.apache.org/docs/latest/api/python/reference/api/pyspark.ml.feature.OneHotEncoder.html)\n",
    "* A `VectorAssembler`\n",
    "  * To combine all features into one `SparseVector`\n",
    "  * [Documentation here](https://spark.apache.org/docs/latest/api/python/reference/api/pyspark.ml.feature.VectorAssembler.html)\n",
    "\n",
    "All of these initialized estimators should be stored in a list called `stages`."
   ]
  },
  {
   "cell_type": "code",
   "execution_count": 53,
   "metadata": {},
   "outputs": [
    {
     "name": "stdout",
     "output_type": "stream",
     "text": [
      "Indexed string features: ['SEX_num', 'EDUCATION_num', 'MARRIAGE_num']\n",
      "Numeric features: ['LIMIT_BAL', 'AGE', 'PAY_0', 'PAY_2', 'PAY_3', 'PAY_4', 'PAY_5', 'PAY_6', 'BILL_AMT1', 'BILL_AMT2', 'BILL_AMT3', 'BILL_AMT4', 'BILL_AMT5', 'BILL_AMT6', 'PAY_AMT1', 'PAY_AMT2', 'PAY_AMT3', 'PAY_AMT4', 'PAY_AMT5', 'PAY_AMT6']\n"
     ]
    }
   ],
   "source": [
    "# Import the necessary classes\n",
    "from pyspark.ml.feature import StringIndexer, OneHotEncoder, VectorAssembler\n",
    "\n",
    "# Create the string indexers and determine the names of the numeric\n",
    "# and indexed columns. Note that ID is an identifier and should NOT\n",
    "# be included in the numeric columns\n",
    "ind = []\n",
    "ind_features = []\n",
    "num_features = []\n",
    "\n",
    "for col, dtype in edu_mar_bin.dtypes:\n",
    "    if dtype == 'string':\n",
    "        strInd = StringIndexer(inputCol=col, outputCol=col+'_num', handleInvalid='keep')\n",
    "        ind.append(strInd)\n",
    "        ind_features.append(strInd.getOutputCol())\n",
    "    elif col != 'ID' and col != 'default':\n",
    "        num_features.append(col)\n",
    "\n",
    "print(\"Indexed string features:\", ind_features)\n",
    "print(\"Numeric features:\", num_features)"
   ]
  },
  {
   "cell_type": "code",
   "execution_count": 54,
   "metadata": {},
   "outputs": [
    {
     "name": "stdout",
     "output_type": "stream",
     "text": [
      "Final features: ['LIMIT_BAL', 'AGE', 'PAY_0', 'PAY_2', 'PAY_3', 'PAY_4', 'PAY_5', 'PAY_6', 'BILL_AMT1', 'BILL_AMT2', 'BILL_AMT3', 'BILL_AMT4', 'BILL_AMT5', 'BILL_AMT6', 'PAY_AMT1', 'PAY_AMT2', 'PAY_AMT3', 'PAY_AMT4', 'PAY_AMT5', 'PAY_AMT6', 'SEX_num_ohe', 'EDUCATION_num_ohe', 'MARRIAGE_num_ohe']\n"
     ]
    }
   ],
   "source": [
    "# Create a OneHotEncoder to encode the indexed string features\n",
    "ohe = OneHotEncoder(\n",
    "    inputCols = ind_features,\n",
    "    outputCols = [col + '_ohe' for col in ind_features],\n",
    "    dropLast=True\n",
    ")\n",
    "\n",
    "# Determine the names of the final list of features going into the model\n",
    "features = num_features + ohe.getOutputCols()\n",
    "print(\"Final features:\", features)"
   ]
  },
  {
   "cell_type": "code",
   "execution_count": 56,
   "metadata": {},
   "outputs": [
    {
     "name": "stdout",
     "output_type": "stream",
     "text": [
      "Stages: [StringIndexer_cc1c21125269, StringIndexer_cb7e206e0d1c, StringIndexer_7ad7faac6693, OneHotEncoder_9cbebd4ce419, VectorAssembler_c59fc5f181bb]\n"
     ]
    }
   ],
   "source": [
    "# Create a VectorAssembler to combine all features\n",
    "va = VectorAssembler(inputCols=features, outputCol='features')\n",
    "\n",
    "# Assemble a list of stages that includes all indexers, the one-hot\n",
    "# encoder, and the vector assembler\n",
    "stages = ind + [ohe, va]\n",
    "print(\"Stages:\", stages)"
   ]
  },
  {
   "cell_type": "markdown",
   "metadata": {},
   "source": [
    "Great! Now let's see if that worked. Let's investigate how it transforms your dataset. Put all of the stages in a Pipeline and fit it to your data. Look at the features column. Did you obtain the number of features you expected?"
   ]
  },
  {
   "cell_type": "code",
   "execution_count": 59,
   "metadata": {},
   "outputs": [
    {
     "name": "stderr",
     "output_type": "stream",
     "text": [
      "Exception ignored in: <function JavaWrapper.__del__ at 0x000002AEA4E6FCA0>\n",
      "Traceback (most recent call last):\n",
      "  File \"C:\\Users\\willc\\Anaconda3\\envs\\learn-env\\lib\\site-packages\\pyspark\\ml\\wrapper.py\", line 42, in __del__\n",
      "    if SparkContext._active_spark_context and self._java_obj is not None:\n",
      "AttributeError: 'VectorAssembler' object has no attribute '_java_obj'\n"
     ]
    },
    {
     "data": {
      "text/plain": [
       "29"
      ]
     },
     "execution_count": 59,
     "metadata": {},
     "output_type": "execute_result"
    }
   ],
   "source": [
    "# Import relevant class\n",
    "from pyspark.ml.pipeline import Pipeline\n",
    "\n",
    "# Instantiate a pipeline using stages list\n",
    "pipe = Pipeline(stages=stages)\n",
    "\n",
    "# Fit and transform the data using the pipeline, then look at\n",
    "# the size of the array in the 'features' column\n",
    "\n",
    "pipe.fit(edu_mar_bin).transform(edu_mar_bin).head()['features'].size"
   ]
  },
  {
   "cell_type": "markdown",
   "metadata": {},
   "source": [
    "<details>\n",
    "    <summary><u>Click to reveal answer</u></summary>\n",
    "    \n",
    "The pipeline should have produced a sparse vector with 29 features.\n",
    "\n",
    "This comes from:\n",
    "    \n",
    "* 20 numeric features\n",
    "* 3 one-hot encoded features with `dropLast=True`, containing\n",
    "  * 1 SEX feature\n",
    "  * 3 EDUCATION features\n",
    "  * 2 MARRIAGE features\n",
    "\n",
    "</details>"
   ]
  },
  {
   "cell_type": "markdown",
   "metadata": {},
   "source": [
    "## Fitting Machine Learning Models\n",
    "That looks good! Now let's go ahead and fit data to different machine learning models. To evaluate these models, you should use the `BinaryClassificationEvaluator`."
   ]
  },
  {
   "cell_type": "code",
   "execution_count": 60,
   "metadata": {},
   "outputs": [],
   "source": [
    "from pyspark.ml.evaluation import BinaryClassificationEvaluator\n",
    "evaluator = BinaryClassificationEvaluator(\n",
    "    rawPredictionCol='prediction',\n",
    "    labelCol='default',\n",
    "    metricName='areaUnderROC'\n",
    ")"
   ]
  },
  {
   "cell_type": "markdown",
   "metadata": {},
   "source": [
    "### Logistic Regression\n",
    "\n",
    "First, we'll try a `LogisticRegression` ([documentation here](https://spark.apache.org/docs/latest/api/python/reference/api/pyspark.ml.classification.LogisticRegression.html)):\n",
    "\n",
    "* split the data into a train and test set. The basic structure of this is:\n",
    "```\n",
    "train, test = df.randomSplit(weights=[0.8, 0.2], seed=1)\n",
    "```\n",
    "  * make sure you replace `df` with the actual name of your prepared dataframe\n",
    "* instantiate a logistic regression with `standardization=True` and add it to the stages list\n",
    "* instantiate a new Pipeline estimator with all of the stages\n",
    "* fit the pipeline on the training data\n",
    "* transform both train and test data using the pipeline\n",
    "* use `evaluator` to evaluate performance on train vs. test"
   ]
  },
  {
   "cell_type": "code",
   "execution_count": 61,
   "metadata": {},
   "outputs": [
    {
     "name": "stdout",
     "output_type": "stream",
     "text": [
      "Train set ROC/AUC: 0.6057796783170918\n",
      "Test set ROC/AUC: 0.6090136625813551\n"
     ]
    }
   ],
   "source": [
    "from pyspark.ml.classification import LogisticRegression\n",
    "\n",
    "# Your code here\n",
    "train, test = edu_mar_bin.randomSplit(weights=[0.8, 0.2], seed=1)\n",
    "\n",
    "lr = LogisticRegression(\n",
    "    featuresCol='features',\n",
    "    labelCol='default',\n",
    "    predictionCol='prediction',\n",
    "    standardization=True\n",
    ")\n",
    "\n",
    "lr_stages = stages + [lr]\n",
    "\n",
    "lr_pipe = Pipeline(stages=lr_stages)\n",
    "\n",
    "lr_pipe_fit = lr_pipe.fit(train)\n",
    "\n",
    "lr_train = lr_pipe_fit.transform(train)\n",
    "lr_test = lr_pipe_fit.transform(test)\n",
    "\n",
    "print(\"Train set ROC/AUC:\", evaluator.evaluate(lr_train))\n",
    "print(\"Test set ROC/AUC:\", evaluator.evaluate(lr_test))"
   ]
  },
  {
   "cell_type": "markdown",
   "metadata": {},
   "source": [
    "Looks like the defaults for `LogisticRegression` are working pretty well, since the train and test metrics are pretty similar.\n",
    "\n",
    "Still, let's try a `CrossValidator` ([documentation here](https://spark.apache.org/docs/latest/api/python/reference/api/pyspark.ml.tuning.CrossValidator.html)) + `ParamGridBuilder` ([documentation here](https://spark.apache.org/docs/latest/api/python/reference/api/pyspark.ml.tuning.ParamGridBuilder.html)) approach with a few different regularization parameters.\n",
    "\n",
    "We'll use these regularization parameters:\n",
    "\n",
    "```python\n",
    "[0.0, 0.01, 0.1, 1.0]\n",
    "```\n",
    "\n",
    "In the cell below:\n",
    "\n",
    "* instantiate a `ParamGridBuilder` that tests out the `regParam` values listed above\n",
    "* instantiate a `CrossValidator` that uses the param grid you just created as well as `evaluator` and the pipeline you created earlier\n",
    "* fit the `CrossValidator` on the full DataFrame\n",
    "* display the metrics for all models, and identify the best model parameters"
   ]
  },
  {
   "cell_type": "code",
   "execution_count": 63,
   "metadata": {},
   "outputs": [
    {
     "data": {
      "text/plain": [
       "[0.6080831992549425,\n",
       " 0.5974610320317754,\n",
       " 0.5582061652985906,\n",
       " 0.5048196653475087]"
      ]
     },
     "execution_count": 63,
     "metadata": {},
     "output_type": "execute_result"
    }
   ],
   "source": [
    "from pyspark.ml.tuning import ParamGridBuilder, CrossValidator\n",
    "\n",
    "lr_pg = ParamGridBuilder().addGrid(lr.regParam, [0.0, 0.01, 0.1, 1.0]).build()\n",
    "\n",
    "lr_cv = CrossValidator(\n",
    "    estimator=lr_pipe,\n",
    "    estimatorParamMaps=lr_pg,\n",
    "    evaluator=evaluator\n",
    ")\n",
    "\n",
    "lr_model = lr_cv.fit(edu_mar_bin)\n",
    "\n",
    "lr_model.avgMetrics"
   ]
  },
  {
   "cell_type": "markdown",
   "metadata": {},
   "source": [
    "Now try this again with other classifiers. Try and create a function that will allow you to easily test different models with different parameters. You can find all of the available classification model options [here](https://spark.apache.org/docs/latest/api/python/reference/pyspark.ml.html#classification).\n",
    "\n",
    "This function is optional, but it should allow for your code to be far more D.R.Y. The function should return the fitted cross-validated classifier as well as print out the AUC of the best-performing model and the best parameters."
   ]
  },
  {
   "cell_type": "code",
   "execution_count": 67,
   "metadata": {},
   "outputs": [],
   "source": [
    "final_df = edu_mar_bin"
   ]
  },
  {
   "cell_type": "code",
   "execution_count": 64,
   "metadata": {},
   "outputs": [],
   "source": [
    "from pyspark.ml.classification import\\\n",
    "    RandomForestClassifier, DecisionTreeClassifier,\\\n",
    "    GBTClassifier, FMClassifier, MultilayerPerceptronClassifier"
   ]
  },
  {
   "cell_type": "code",
   "execution_count": 83,
   "metadata": {},
   "outputs": [],
   "source": [
    "import numpy as np"
   ]
  },
  {
   "cell_type": "code",
   "execution_count": 84,
   "metadata": {},
   "outputs": [],
   "source": [
    "# Create a function to cross validate different classifiers with different parameters\n",
    "def cv_model(df, stages, clf, param_grid, evaluator):\n",
    "    stages_with_clf = stages + [clf]\n",
    "    pipe = Pipeline(stages=stages_with_clf)\n",
    "    cv = CrossValidator(\n",
    "        estimator=pipe,\n",
    "        estimatorParamMaps=param_grid,\n",
    "        evaluator=evaluator\n",
    "    )\n",
    "    model = cv.fit(df)\n",
    "    \n",
    "    best_clf_ind = np.argmax(model.avgMetrics)\n",
    "    best_clf_metric = model.avgMetrics[best_clf_ind]\n",
    "    best_clf_params = param_grid[best_clf_ind]\n",
    "    \n",
    "    print(f\"Best {evaluator.getMetricName()}: {best_clf_metric}\")\n",
    "    print(f\"Best params: {best_clf_params}\")\n",
    "    \n",
    "    return model"
   ]
  },
  {
   "cell_type": "markdown",
   "metadata": {},
   "source": [
    "Now train one other classifier that is not a `LogisticRegression`. Use a `ParamGridBuilder` to try out some relevant parameters."
   ]
  },
  {
   "cell_type": "markdown",
   "metadata": {},
   "source": [
    "And one more:"
   ]
  },
  {
   "cell_type": "code",
   "execution_count": 85,
   "metadata": {},
   "outputs": [
    {
     "name": "stdout",
     "output_type": "stream",
     "text": [
      "Best areaUnderROC: 0.6547091713860016\n",
      "Best params: {Param(parent='RandomForestClassifier_a206cb80305f', name='maxDepth', doc='Maximum depth of the tree. (>= 0) E.g., depth 0 means 1 leaf node; depth 1 means 1 internal node + 2 leaf nodes.'): 8, Param(parent='RandomForestClassifier_a206cb80305f', name='numTrees', doc='Number of trees to train (>= 1).'): 10}\n"
     ]
    }
   ],
   "source": [
    "# Your code here\n",
    "# ⏰ This cell may take a long time to run\n",
    "rf = RandomForestClassifier(featuresCol='features',labelCol='default')\n",
    "rf_params = ParamGridBuilder()\\\n",
    "    .addGrid(rf.maxDepth, [4,8])\\\n",
    "    .addGrid(rf.numTrees, [10,50])\\\n",
    "    .build()\n",
    "\n",
    "rf_model = cv_model(final_df, stages, rf, rf_params, evaluator)"
   ]
  },
  {
   "cell_type": "code",
   "execution_count": 88,
   "metadata": {},
   "outputs": [
    {
     "name": "stdout",
     "output_type": "stream",
     "text": [
      "Best areaUnderROC: 0.6530402333719036\n",
      "Best params: {Param(parent='DecisionTreeClassifier_a165a392f144', name='maxDepth', doc='Maximum depth of the tree. (>= 0) E.g., depth 0 means 1 leaf node; depth 1 means 1 internal node + 2 leaf nodes.'): 10}\n"
     ]
    }
   ],
   "source": [
    "dt = DecisionTreeClassifier(featuresCol='features',labelCol='default')\n",
    "dt_params = ParamGridBuilder()\\\n",
    "    .addGrid(dt.maxDepth, [5, 10, 15])\\\n",
    "    .build()\n",
    "\n",
    "dt_model = cv_model(final_df, stages, dt, dt_params, evaluator)"
   ]
  },
  {
   "cell_type": "code",
   "execution_count": 90,
   "metadata": {},
   "outputs": [
    {
     "name": "stdout",
     "output_type": "stream",
     "text": [
      "Best areaUnderROC: 0.6567210743031695\n",
      "Best params: {Param(parent='GBTClassifier_4a549235546b', name='maxDepth', doc='Maximum depth of the tree. (>= 0) E.g., depth 0 means 1 leaf node; depth 1 means 1 internal node + 2 leaf nodes.'): 2, Param(parent='GBTClassifier_4a549235546b', name='maxIter', doc='max number of iterations (>= 0).'): 75}\n"
     ]
    }
   ],
   "source": [
    "gbt = GBTClassifier(featuresCol='features',labelCol='default')\n",
    "gbt_params = ParamGridBuilder()\\\n",
    "    .addGrid(gbt.maxDepth, [2,8])\\\n",
    "    .addGrid(gbt.maxIter,[25,75])\\\n",
    "    .build()\n",
    "\n",
    "gbt_model = cv_model(final_df, stages, gbt, gbt_params, evaluator)"
   ]
  },
  {
   "cell_type": "code",
   "execution_count": 92,
   "metadata": {},
   "outputs": [
    {
     "name": "stdout",
     "output_type": "stream",
     "text": [
      "Best areaUnderROC: 0.5313348364712092\n",
      "Best params: {Param(parent='FMClassifier_ca0960fff158', name='solver', doc='The solver algorithm for optimization. Supported options: gd, adamW. (Default adamW)'): 'adamW', Param(parent='FMClassifier_ca0960fff158', name='maxIter', doc='max number of iterations (>= 0).'): 10}\n"
     ]
    }
   ],
   "source": [
    "fm = FMClassifier(featuresCol='features',labelCol='default')\n",
    "fm_params = ParamGridBuilder()\\\n",
    "    .addGrid(fm.solver, ['gd', 'adamW'])\\\n",
    "    .addGrid(fm.maxIter,[10,50])\\\n",
    "    .build()\n",
    "\n",
    "fm_model = cv_model(final_df, stages, fm, fm_params, evaluator)"
   ]
  },
  {
   "cell_type": "markdown",
   "metadata": {},
   "source": [
    "Which classifier turned out to be the best overall?"
   ]
  },
  {
   "cell_type": "code",
   "execution_count": 93,
   "metadata": {},
   "outputs": [],
   "source": [
    "# Your answer here\n",
    "\"\"\"\n",
    "\n",
    "\"\"\";"
   ]
  },
  {
   "cell_type": "markdown",
   "metadata": {},
   "source": [
    "## Level Up (Optional)\n",
    "\n",
    "* Create ROC curves for each of these models\n",
    "* Try the multi-layer perceptron classifier algorithm. You will soon learn about what this means in the neural network section!"
   ]
  },
  {
   "cell_type": "code",
   "execution_count": 116,
   "metadata": {},
   "outputs": [
    {
     "name": "stdout",
     "output_type": "stream",
     "text": [
      "Best areaUnderROC: 0.5\n",
      "Best params: {Param(parent='MultilayerPerceptronClassifier_7ae41b7d5cc2', name='solver', doc='The solver algorithm for optimization. Supported options: l-bfgs, gd.'): 'l-bfgs', Param(parent='MultilayerPerceptronClassifier_7ae41b7d5cc2', name='stepSize', doc='Step size to be used for each iteration of optimization (>= 0).'): 0.0001}\n"
     ]
    }
   ],
   "source": [
    "mlp = MultilayerPerceptronClassifier(\n",
    "    featuresCol='features',\n",
    "    labelCol='default',layers=[29,1,2],\n",
    "    maxIter=20\n",
    ")\n",
    "mlp_params = ParamGridBuilder()\\\n",
    "    .addGrid(mlp.solver,['l-bfgs', 'gd'])\\\n",
    "    .addGrid(mlp.stepSize,[0.0001,0.05])\\\n",
    "    .build()\n",
    "\n",
    "mlp_model = cv_model(final_df, stages, mlp, mlp_params, evaluator)"
   ]
  },
  {
   "cell_type": "markdown",
   "metadata": {},
   "source": [
    "## Stop the Spark Session"
   ]
  },
  {
   "cell_type": "code",
   "execution_count": 117,
   "metadata": {},
   "outputs": [],
   "source": [
    "spark.stop()"
   ]
  },
  {
   "cell_type": "markdown",
   "metadata": {},
   "source": [
    "## Summary\n",
    "\n",
    "If you've made it this far, congratulations! Spark is an in-demand skill, but it is not particularly easy to master. In this lesson, you fit multiple different machine learning pipelines for a classification problem. If you want to take your Spark skills to the next level, connect to a distributed cluster using a service like AWS or Databricks and perform these Spark operations on the cloud."
   ]
  }
 ],
 "metadata": {
  "kernelspec": {
   "display_name": "Python 3",
   "language": "python",
   "name": "python3"
  },
  "language_info": {
   "codemirror_mode": {
    "name": "ipython",
    "version": 3
   },
   "file_extension": ".py",
   "mimetype": "text/x-python",
   "name": "python",
   "nbconvert_exporter": "python",
   "pygments_lexer": "ipython3",
   "version": "3.8.5"
  }
 },
 "nbformat": 4,
 "nbformat_minor": 2
}
